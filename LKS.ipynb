{
 "cells": [
  {
   "cell_type": "code",
   "execution_count": 193,
   "metadata": {},
   "outputs": [],
   "source": [
    "import pandas as pd"
   ]
  },
  {
   "cell_type": "code",
   "execution_count": 194,
   "metadata": {},
   "outputs": [],
   "source": [
    "df = pd.read_csv(\"sales.csv\",sep=\";\")"
   ]
  },
  {
   "cell_type": "code",
   "execution_count": 195,
   "metadata": {},
   "outputs": [
    {
     "data": {
      "text/html": [
       "<div>\n",
       "<style scoped>\n",
       "    .dataframe tbody tr th:only-of-type {\n",
       "        vertical-align: middle;\n",
       "    }\n",
       "\n",
       "    .dataframe tbody tr th {\n",
       "        vertical-align: top;\n",
       "    }\n",
       "\n",
       "    .dataframe thead th {\n",
       "        text-align: right;\n",
       "    }\n",
       "</style>\n",
       "<table border=\"1\" class=\"dataframe\">\n",
       "  <thead>\n",
       "    <tr style=\"text-align: right;\">\n",
       "      <th></th>\n",
       "      <th>mois</th>\n",
       "      <th>annee</th>\n",
       "      <th>commandes</th>\n",
       "      <th>nr_articles</th>\n",
       "      <th>total_vente</th>\n",
       "      <th>facture</th>\n",
       "      <th>rembourse</th>\n",
       "      <th>tva</th>\n",
       "      <th>expedition</th>\n",
       "      <th>vente_escompte</th>\n",
       "      <th>annule</th>\n",
       "    </tr>\n",
       "  </thead>\n",
       "  <tbody>\n",
       "    <tr>\n",
       "      <th>count</th>\n",
       "      <td>66.000000</td>\n",
       "      <td>66.000000</td>\n",
       "      <td>66.000000</td>\n",
       "      <td>66.000000</td>\n",
       "      <td>66.000000</td>\n",
       "      <td>66.000000</td>\n",
       "      <td>66.000000</td>\n",
       "      <td>66.000000</td>\n",
       "      <td>66.000000</td>\n",
       "      <td>66.000000</td>\n",
       "      <td>66.000000</td>\n",
       "    </tr>\n",
       "    <tr>\n",
       "      <th>mean</th>\n",
       "      <td>6.227273</td>\n",
       "      <td>2015.272727</td>\n",
       "      <td>523.060606</td>\n",
       "      <td>774.424242</td>\n",
       "      <td>206657.541818</td>\n",
       "      <td>196177.349545</td>\n",
       "      <td>8502.895000</td>\n",
       "      <td>35322.081212</td>\n",
       "      <td>1475.468333</td>\n",
       "      <td>3411.762273</td>\n",
       "      <td>116373.224394</td>\n",
       "    </tr>\n",
       "    <tr>\n",
       "      <th>std</th>\n",
       "      <td>3.467633</td>\n",
       "      <td>1.612885</td>\n",
       "      <td>380.228348</td>\n",
       "      <td>478.317277</td>\n",
       "      <td>119868.598489</td>\n",
       "      <td>119823.113595</td>\n",
       "      <td>30009.215034</td>\n",
       "      <td>20712.389071</td>\n",
       "      <td>1516.808813</td>\n",
       "      <td>2847.747330</td>\n",
       "      <td>78179.050715</td>\n",
       "    </tr>\n",
       "    <tr>\n",
       "      <th>min</th>\n",
       "      <td>1.000000</td>\n",
       "      <td>2013.000000</td>\n",
       "      <td>56.000000</td>\n",
       "      <td>121.000000</td>\n",
       "      <td>54241.630000</td>\n",
       "      <td>164.460000</td>\n",
       "      <td>0.000000</td>\n",
       "      <td>8898.190000</td>\n",
       "      <td>128.670000</td>\n",
       "      <td>109.000000</td>\n",
       "      <td>9860.660000</td>\n",
       "    </tr>\n",
       "    <tr>\n",
       "      <th>25%</th>\n",
       "      <td>3.000000</td>\n",
       "      <td>2014.000000</td>\n",
       "      <td>230.500000</td>\n",
       "      <td>407.000000</td>\n",
       "      <td>113054.852500</td>\n",
       "      <td>106968.980000</td>\n",
       "      <td>670.810000</td>\n",
       "      <td>18760.632500</td>\n",
       "      <td>431.105000</td>\n",
       "      <td>1338.930000</td>\n",
       "      <td>56072.590000</td>\n",
       "    </tr>\n",
       "    <tr>\n",
       "      <th>50%</th>\n",
       "      <td>6.000000</td>\n",
       "      <td>2015.000000</td>\n",
       "      <td>390.000000</td>\n",
       "      <td>724.500000</td>\n",
       "      <td>152321.650000</td>\n",
       "      <td>142603.875000</td>\n",
       "      <td>1899.100000</td>\n",
       "      <td>27267.585000</td>\n",
       "      <td>924.445000</td>\n",
       "      <td>2680.235000</td>\n",
       "      <td>93295.875000</td>\n",
       "    </tr>\n",
       "    <tr>\n",
       "      <th>75%</th>\n",
       "      <td>9.000000</td>\n",
       "      <td>2017.000000</td>\n",
       "      <td>729.000000</td>\n",
       "      <td>1055.750000</td>\n",
       "      <td>284781.205000</td>\n",
       "      <td>267630.997500</td>\n",
       "      <td>3892.995000</td>\n",
       "      <td>49219.915000</td>\n",
       "      <td>1903.240000</td>\n",
       "      <td>4229.325000</td>\n",
       "      <td>168157.362500</td>\n",
       "    </tr>\n",
       "    <tr>\n",
       "      <th>max</th>\n",
       "      <td>12.000000</td>\n",
       "      <td>2018.000000</td>\n",
       "      <td>1536.000000</td>\n",
       "      <td>2021.000000</td>\n",
       "      <td>501300.160000</td>\n",
       "      <td>501300.160000</td>\n",
       "      <td>232548.050000</td>\n",
       "      <td>86168.040000</td>\n",
       "      <td>7958.560000</td>\n",
       "      <td>14321.400000</td>\n",
       "      <td>337341.680000</td>\n",
       "    </tr>\n",
       "  </tbody>\n",
       "</table>\n",
       "</div>"
      ],
      "text/plain": [
       "            mois        annee    commandes  nr_articles    total_vente  \\\n",
       "count  66.000000    66.000000    66.000000    66.000000      66.000000   \n",
       "mean    6.227273  2015.272727   523.060606   774.424242  206657.541818   \n",
       "std     3.467633     1.612885   380.228348   478.317277  119868.598489   \n",
       "min     1.000000  2013.000000    56.000000   121.000000   54241.630000   \n",
       "25%     3.000000  2014.000000   230.500000   407.000000  113054.852500   \n",
       "50%     6.000000  2015.000000   390.000000   724.500000  152321.650000   \n",
       "75%     9.000000  2017.000000   729.000000  1055.750000  284781.205000   \n",
       "max    12.000000  2018.000000  1536.000000  2021.000000  501300.160000   \n",
       "\n",
       "             facture      rembourse           tva   expedition  \\\n",
       "count      66.000000      66.000000     66.000000    66.000000   \n",
       "mean   196177.349545    8502.895000  35322.081212  1475.468333   \n",
       "std    119823.113595   30009.215034  20712.389071  1516.808813   \n",
       "min       164.460000       0.000000   8898.190000   128.670000   \n",
       "25%    106968.980000     670.810000  18760.632500   431.105000   \n",
       "50%    142603.875000    1899.100000  27267.585000   924.445000   \n",
       "75%    267630.997500    3892.995000  49219.915000  1903.240000   \n",
       "max    501300.160000  232548.050000  86168.040000  7958.560000   \n",
       "\n",
       "       vente_escompte         annule  \n",
       "count       66.000000      66.000000  \n",
       "mean      3411.762273  116373.224394  \n",
       "std       2847.747330   78179.050715  \n",
       "min        109.000000    9860.660000  \n",
       "25%       1338.930000   56072.590000  \n",
       "50%       2680.235000   93295.875000  \n",
       "75%       4229.325000  168157.362500  \n",
       "max      14321.400000  337341.680000  "
      ]
     },
     "execution_count": 195,
     "metadata": {},
     "output_type": "execute_result"
    }
   ],
   "source": [
    "df.describe()"
   ]
  },
  {
   "cell_type": "code",
   "execution_count": 196,
   "metadata": {},
   "outputs": [],
   "source": [
    "import plotly\n",
    "import plotly.plotly as py\n",
    "import plotly.graph_objs as go\n",
    "import matplotlib"
   ]
  },
  {
   "cell_type": "code",
   "execution_count": 197,
   "metadata": {},
   "outputs": [
    {
     "data": {
      "text/html": [
       "<script>requirejs.config({paths: { 'plotly': ['https://cdn.plot.ly/plotly-latest.min']},});if(!window.Plotly) {{require(['plotly'],function(plotly) {window.Plotly=plotly;});}}</script>"
      ],
      "text/vnd.plotly.v1+html": [
       "<script>requirejs.config({paths: { 'plotly': ['https://cdn.plot.ly/plotly-latest.min']},});if(!window.Plotly) {{require(['plotly'],function(plotly) {window.Plotly=plotly;});}}</script>"
      ]
     },
     "metadata": {},
     "output_type": "display_data"
    }
   ],
   "source": [
    "plotly.offline.init_notebook_mode(connected=True)"
   ]
  },
  {
   "cell_type": "code",
   "execution_count": 199,
   "metadata": {},
   "outputs": [
    {
     "data": {
      "text/plain": [
       "annee\n",
       "2013    2594333.05\n",
       "2014    2308471.74\n",
       "2015    2413067.55\n",
       "2016    2687874.89\n",
       "2017    2516430.70\n",
       "2018    1119219.83\n",
       "Name: total_vente, dtype: float64"
      ]
     },
     "execution_count": 199,
     "metadata": {},
     "output_type": "execute_result"
    }
   ],
   "source": [
    "import numpy as np\n",
    "\n",
    "dataset = pd.concat([pd.get_dummies(df[\"mois\"]),df[[\"total_vente\",\"annee\"]]],axis=1)\n",
    "\n",
    "months = [1,2,3,4,5,6,7,8,9,10,11,12]\n",
    "mean = []\n",
    "diff = []\n",
    "\n",
    "for month in months:\n",
    "    val = dataset[dataset[month] == 1][\"total_vente\"].mean()\n",
    "    mean.append(val)\n",
    "    if (month <= 6):\n",
    "        diff.append(dataset[(dataset[month] == 1) & (dataset[\"annee\"] == 2018)][\"total_vente\"].values[0] / val - 1)\n",
    "    \n",
    "\n",
    "dataset.groupby(\"annee\").total_vente.sum()\n"
   ]
  },
  {
   "cell_type": "code",
   "execution_count": 200,
   "metadata": {},
   "outputs": [
    {
     "data": {
      "application/vnd.plotly.v1+json": {
       "data": [
        {
         "name": "CA 2013",
         "type": "scatter",
         "x": [
          1,
          2,
          3,
          4,
          5,
          6,
          7,
          8,
          9,
          10,
          11,
          12
         ],
         "y": [
          85936.49,
          135134.51,
          199398.72,
          499430.7,
          330976.89,
          316942.21,
          439633.46,
          195323.51,
          128347.7,
          142460.81,
          66506.42,
          54241.63
         ]
        },
        {
         "name": "CA 2014",
         "type": "scatter",
         "x": [
          1,
          2,
          3,
          4,
          5,
          6,
          7,
          8,
          9,
          10,
          11,
          12
         ],
         "y": [
          72037.54,
          112855.51,
          240322.86,
          267268.69,
          327980.72,
          459578.46,
          285267.8,
          122530.12,
          132956.16,
          110928.74,
          97851.18,
          78893.96
         ]
        },
        {
         "name": "CA 2015",
         "type": "scatter",
         "x": [
          1,
          2,
          3,
          4,
          5,
          6,
          7,
          8,
          9,
          10,
          11,
          12
         ],
         "y": [
          113652.88,
          106486.63,
          142894.18,
          207224.98,
          362923.85,
          501300.16,
          273187.9,
          156618.09,
          102037.94,
          254009.65,
          107511.9,
          85219.39
         ]
        },
        {
         "name": "CA 2016",
         "type": "scatter",
         "x": [
          1,
          2,
          3,
          4,
          5,
          6,
          7,
          8,
          9,
          10,
          11,
          12
         ],
         "y": [
          151460.15,
          241349.87,
          290424.45,
          377894.76,
          364713.73,
          338586.58,
          255253.01,
          148322.11,
          127479.66,
          186978.14,
          104253.26,
          101159.17
         ]
        },
        {
         "name": "CA 2017",
         "type": "scatter",
         "x": [
          1,
          2,
          3,
          4,
          5,
          6,
          7,
          8,
          9,
          10,
          11,
          12
         ],
         "y": [
          127414.98,
          153183.15,
          247338.6,
          308938.46,
          469607.98,
          451512.12,
          191100.63,
          122643.44,
          120950.11,
          96732.65,
          104639.24,
          122369.34
         ]
        },
        {
         "name": "CA 2018",
         "type": "scatter",
         "x": [
          1,
          2,
          3,
          4,
          5,
          6
         ],
         "y": [
          143818.39,
          103111.13,
          130811.94,
          297337.04,
          283321.42,
          160819.91
         ]
        },
        {
         "name": "Moyenne CA",
         "type": "scatter",
         "x": [
          1,
          2,
          3,
          4,
          5,
          6,
          7,
          8,
          9,
          10,
          11,
          12
         ],
         "y": [
          115720.07166666667,
          142020.13333333333,
          208531.79166666666,
          326349.105,
          356587.43166666664,
          371456.5733333334,
          288888.55999999994,
          149087.454,
          122354.31399999998,
          158221.998,
          96152.4,
          88376.698
         ]
        },
        {
         "name": "Prediction CA",
         "type": "scatter",
         "x": [
          7,
          8,
          9,
          10,
          11,
          12
         ],
         "y": [
          227967.98911393227,
          117648.02002023162,
          96552.34157418575,
          124856.27924362467,
          75875.86464648675,
          69739.89599169066
         ]
        }
       ],
       "layout": {}
      },
      "text/html": [
       "<div id=\"3c4471ca-8b2a-4093-a22e-02eb9e6ad1d8\" style=\"height: 525px; width: 100%;\" class=\"plotly-graph-div\"></div><script type=\"text/javascript\">require([\"plotly\"], function(Plotly) { window.PLOTLYENV=window.PLOTLYENV || {};window.PLOTLYENV.BASE_URL=\"https://plot.ly\";Plotly.newPlot(\"3c4471ca-8b2a-4093-a22e-02eb9e6ad1d8\", [{\"name\": \"CA 2013\", \"x\": [1, 2, 3, 4, 5, 6, 7, 8, 9, 10, 11, 12], \"type\": \"scatter\", \"y\": [85936.49, 135134.51, 199398.72, 499430.7, 330976.89, 316942.21, 439633.46, 195323.51, 128347.7, 142460.81, 66506.42, 54241.63]}, {\"name\": \"CA 2014\", \"x\": [1, 2, 3, 4, 5, 6, 7, 8, 9, 10, 11, 12], \"type\": \"scatter\", \"y\": [72037.54, 112855.51, 240322.86, 267268.69, 327980.72, 459578.46, 285267.8, 122530.12, 132956.16, 110928.74, 97851.18, 78893.96]}, {\"name\": \"CA 2015\", \"x\": [1, 2, 3, 4, 5, 6, 7, 8, 9, 10, 11, 12], \"type\": \"scatter\", \"y\": [113652.88, 106486.63, 142894.18, 207224.98, 362923.85, 501300.16, 273187.9, 156618.09, 102037.94, 254009.65, 107511.9, 85219.39]}, {\"name\": \"CA 2016\", \"x\": [1, 2, 3, 4, 5, 6, 7, 8, 9, 10, 11, 12], \"type\": \"scatter\", \"y\": [151460.15, 241349.87, 290424.45, 377894.76, 364713.73, 338586.58, 255253.01, 148322.11, 127479.66, 186978.14, 104253.26, 101159.17]}, {\"name\": \"CA 2017\", \"x\": [1, 2, 3, 4, 5, 6, 7, 8, 9, 10, 11, 12], \"type\": \"scatter\", \"y\": [127414.98, 153183.15, 247338.6, 308938.46, 469607.98, 451512.12, 191100.63, 122643.44, 120950.11, 96732.65, 104639.24, 122369.34]}, {\"name\": \"CA 2018\", \"x\": [1, 2, 3, 4, 5, 6], \"type\": \"scatter\", \"y\": [143818.39, 103111.13, 130811.94, 297337.04, 283321.42, 160819.91]}, {\"name\": \"Moyenne CA\", \"x\": [1, 2, 3, 4, 5, 6, 7, 8, 9, 10, 11, 12], \"type\": \"scatter\", \"y\": [115720.07166666667, 142020.13333333333, 208531.79166666666, 326349.105, 356587.43166666664, 371456.5733333334, 288888.55999999994, 149087.454, 122354.31399999998, 158221.998, 96152.4, 88376.698]}, {\"name\": \"Prediction CA\", \"x\": [7, 8, 9, 10, 11, 12], \"type\": \"scatter\", \"y\": [227967.98911393227, 117648.02002023162, 96552.34157418575, 124856.27924362467, 75875.86464648675, 69739.89599169066]}], {}, {\"showLink\": true, \"linkText\": \"Export to plot.ly\"})});</script>"
      ],
      "text/vnd.plotly.v1+html": [
       "<div id=\"3c4471ca-8b2a-4093-a22e-02eb9e6ad1d8\" style=\"height: 525px; width: 100%;\" class=\"plotly-graph-div\"></div><script type=\"text/javascript\">require([\"plotly\"], function(Plotly) { window.PLOTLYENV=window.PLOTLYENV || {};window.PLOTLYENV.BASE_URL=\"https://plot.ly\";Plotly.newPlot(\"3c4471ca-8b2a-4093-a22e-02eb9e6ad1d8\", [{\"name\": \"CA 2013\", \"x\": [1, 2, 3, 4, 5, 6, 7, 8, 9, 10, 11, 12], \"type\": \"scatter\", \"y\": [85936.49, 135134.51, 199398.72, 499430.7, 330976.89, 316942.21, 439633.46, 195323.51, 128347.7, 142460.81, 66506.42, 54241.63]}, {\"name\": \"CA 2014\", \"x\": [1, 2, 3, 4, 5, 6, 7, 8, 9, 10, 11, 12], \"type\": \"scatter\", \"y\": [72037.54, 112855.51, 240322.86, 267268.69, 327980.72, 459578.46, 285267.8, 122530.12, 132956.16, 110928.74, 97851.18, 78893.96]}, {\"name\": \"CA 2015\", \"x\": [1, 2, 3, 4, 5, 6, 7, 8, 9, 10, 11, 12], \"type\": \"scatter\", \"y\": [113652.88, 106486.63, 142894.18, 207224.98, 362923.85, 501300.16, 273187.9, 156618.09, 102037.94, 254009.65, 107511.9, 85219.39]}, {\"name\": \"CA 2016\", \"x\": [1, 2, 3, 4, 5, 6, 7, 8, 9, 10, 11, 12], \"type\": \"scatter\", \"y\": [151460.15, 241349.87, 290424.45, 377894.76, 364713.73, 338586.58, 255253.01, 148322.11, 127479.66, 186978.14, 104253.26, 101159.17]}, {\"name\": \"CA 2017\", \"x\": [1, 2, 3, 4, 5, 6, 7, 8, 9, 10, 11, 12], \"type\": \"scatter\", \"y\": [127414.98, 153183.15, 247338.6, 308938.46, 469607.98, 451512.12, 191100.63, 122643.44, 120950.11, 96732.65, 104639.24, 122369.34]}, {\"name\": \"CA 2018\", \"x\": [1, 2, 3, 4, 5, 6], \"type\": \"scatter\", \"y\": [143818.39, 103111.13, 130811.94, 297337.04, 283321.42, 160819.91]}, {\"name\": \"Moyenne CA\", \"x\": [1, 2, 3, 4, 5, 6, 7, 8, 9, 10, 11, 12], \"type\": \"scatter\", \"y\": [115720.07166666667, 142020.13333333333, 208531.79166666666, 326349.105, 356587.43166666664, 371456.5733333334, 288888.55999999994, 149087.454, 122354.31399999998, 158221.998, 96152.4, 88376.698]}, {\"name\": \"Prediction CA\", \"x\": [7, 8, 9, 10, 11, 12], \"type\": \"scatter\", \"y\": [227967.98911393227, 117648.02002023162, 96552.34157418575, 124856.27924362467, 75875.86464648675, 69739.89599169066]}], {}, {\"showLink\": true, \"linkText\": \"Export to plot.ly\"})});</script>"
      ]
     },
     "metadata": {},
     "output_type": "display_data"
    }
   ],
   "source": [
    "years = [2013,2014,2015,2016,2017,2018]\n",
    "data = []\n",
    "\n",
    "for year in years:\n",
    "    data.append(go.Scatter(x=df[df[\"annee\"] == year][\"mois\"],y=df[df[\"annee\"] == year][\"total_vente\"],name=\"CA \"+str(year)))\n",
    "\n",
    "predictions = []\n",
    "for i,m in enumerate(mean):\n",
    "    if i > 5:\n",
    "        predictions.append(m * (1 + np.array(diff).mean() ))     \n",
    "data.append(go.Scatter(x=months,y=mean,name=\"Moyenne CA\"))\n",
    "data.append(go.Scatter(x=[7,8,9,10,11,12],y=predictions,name=\"Prediction CA\"))\n",
    "\n",
    "plotly.offline.iplot(data)"
   ]
  },
  {
   "cell_type": "code",
   "execution_count": 214,
   "metadata": {},
   "outputs": [
    {
     "data": {
      "application/vnd.plotly.v1+json": {
       "data": [
        {
         "name": "CA 6 premiers mois",
         "type": "scatter",
         "x": [
          2013,
          2014,
          2015,
          2016,
          2017,
          2018
         ],
         "y": [
          1567819.52,
          1480043.78,
          1434482.68,
          1764429.54,
          1757995.29,
          1119219.8299999998
         ]
        }
       ],
       "layout": {
        "title": "CA 6 premiers mois / an"
       }
      },
      "text/html": [
       "<div id=\"d03feea3-db76-4b3a-9852-87c8232f7dff\" style=\"height: 525px; width: 100%;\" class=\"plotly-graph-div\"></div><script type=\"text/javascript\">require([\"plotly\"], function(Plotly) { window.PLOTLYENV=window.PLOTLYENV || {};window.PLOTLYENV.BASE_URL=\"https://plot.ly\";Plotly.newPlot(\"d03feea3-db76-4b3a-9852-87c8232f7dff\", [{\"x\": [2013, 2014, 2015, 2016, 2017, 2018], \"name\": \"CA 6 premiers mois\", \"type\": \"scatter\", \"y\": [1567819.52, 1480043.78, 1434482.68, 1764429.54, 1757995.29, 1119219.8299999998]}], {\"title\": \"CA 6 premiers mois / an\"}, {\"showLink\": true, \"linkText\": \"Export to plot.ly\"})});</script>"
      ],
      "text/vnd.plotly.v1+html": [
       "<div id=\"d03feea3-db76-4b3a-9852-87c8232f7dff\" style=\"height: 525px; width: 100%;\" class=\"plotly-graph-div\"></div><script type=\"text/javascript\">require([\"plotly\"], function(Plotly) { window.PLOTLYENV=window.PLOTLYENV || {};window.PLOTLYENV.BASE_URL=\"https://plot.ly\";Plotly.newPlot(\"d03feea3-db76-4b3a-9852-87c8232f7dff\", [{\"x\": [2013, 2014, 2015, 2016, 2017, 2018], \"name\": \"CA 6 premiers mois\", \"type\": \"scatter\", \"y\": [1567819.52, 1480043.78, 1434482.68, 1764429.54, 1757995.29, 1119219.8299999998]}], {\"title\": \"CA 6 premiers mois / an\"}, {\"showLink\": true, \"linkText\": \"Export to plot.ly\"})});</script>"
      ]
     },
     "metadata": {},
     "output_type": "display_data"
    }
   ],
   "source": [
    "summary = go.Scatter(x=[2013,2014,2015,2016,2017,2018],y=df[(df[\"mois\"].isin([1,2,3,4,5,6]))].groupby(\"annee\")[\"total_vente\"].sum().values, name=\"CA 6 premiers mois\")\n",
    "layout = go.Layout(\n",
    "    title='CA 6 premiers mois / an')\n",
    "fig = go.Figure(data=[summary], layout=layout)\n",
    "plotly.offline.iplot(fig)"
   ]
  },
  {
   "cell_type": "code",
   "execution_count": 201,
   "metadata": {},
   "outputs": [
    {
     "name": "stdout",
     "output_type": "stream",
     "text": [
      "Chiffre d'affaires estimé 2018: 1831860 €\n"
     ]
    }
   ],
   "source": [
    "print(\"Chiffre d'affaires estimé 2018: {} €\".format(int(round(dataset[dataset[\"annee\"] == 2018][\"total_vente\"].sum() + np.array(predictions).sum()))))"
   ]
  },
  {
   "cell_type": "code",
   "execution_count": null,
   "metadata": {},
   "outputs": [],
   "source": []
  }
 ],
 "metadata": {
  "kernelspec": {
   "display_name": "Python [conda env:tensorflow]",
   "language": "python",
   "name": "conda-env-tensorflow-py"
  },
  "language_info": {
   "codemirror_mode": {
    "name": "ipython",
    "version": 3
   },
   "file_extension": ".py",
   "mimetype": "text/x-python",
   "name": "python",
   "nbconvert_exporter": "python",
   "pygments_lexer": "ipython3",
   "version": "3.5.5"
  }
 },
 "nbformat": 4,
 "nbformat_minor": 2
}
